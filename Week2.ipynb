{
 "cells": [
  {
   "cell_type": "code",
   "execution_count": 1,
   "id": "ae2aeaf3",
   "metadata": {},
   "outputs": [],
   "source": [
    "my_list=[1,4,2,\"three\",8]"
   ]
  },
  {
   "cell_type": "code",
   "execution_count": 2,
   "id": "dd41d13e",
   "metadata": {},
   "outputs": [
    {
     "name": "stdout",
     "output_type": "stream",
     "text": [
      "1\n",
      "4\n",
      "2\n",
      "three\n",
      "8\n"
     ]
    }
   ],
   "source": [
    "for i in my_list:\n",
    "    print(i)"
   ]
  },
  {
   "cell_type": "code",
   "execution_count": 3,
   "id": "22f59030",
   "metadata": {},
   "outputs": [],
   "source": [
    "my_list+=[7,8]\n",
    "# not too expensive way of adding to list\n",
    "# acts like alist extender "
   ]
  },
  {
   "cell_type": "code",
   "execution_count": 4,
   "id": "2615cbf2",
   "metadata": {},
   "outputs": [
    {
     "data": {
      "text/plain": [
       "[1, 4, 2, 'three', 8, 7, 8]"
      ]
     },
     "execution_count": 4,
     "metadata": {},
     "output_type": "execute_result"
    }
   ],
   "source": [
    "my_list"
   ]
  },
  {
   "cell_type": "code",
   "execution_count": 5,
   "id": "d8fdb3f5",
   "metadata": {},
   "outputs": [
    {
     "data": {
      "text/plain": [
       "True"
      ]
     },
     "execution_count": 5,
     "metadata": {},
     "output_type": "execute_result"
    }
   ],
   "source": [
    "2 in my_list \n",
    "# this will be slow for large list \n",
    "# effective way to speed up searching, example using the sort list\n",
    "# and a technic called binary search "
   ]
  },
  {
   "cell_type": "code",
   "execution_count": 6,
   "id": "543fc3f8",
   "metadata": {},
   "outputs": [
    {
     "ename": "TypeError",
     "evalue": "'<' not supported between instances of 'str' and 'int'",
     "output_type": "error",
     "traceback": [
      "\u001b[31m---------------------------------------------------------------------------\u001b[39m",
      "\u001b[31mTypeError\u001b[39m                                 Traceback (most recent call last)",
      "\u001b[36mCell\u001b[39m\u001b[36m \u001b[39m\u001b[32mIn[6]\u001b[39m\u001b[32m, line 1\u001b[39m\n\u001b[32m----> \u001b[39m\u001b[32m1\u001b[39m \u001b[43mmy_list\u001b[49m\u001b[43m.\u001b[49m\u001b[43msort\u001b[49m\u001b[43m(\u001b[49m\u001b[43m)\u001b[49m\n\u001b[32m      2\u001b[39m \u001b[38;5;66;03m# error is due to diff types \u001b[39;00m\n",
      "\u001b[31mTypeError\u001b[39m: '<' not supported between instances of 'str' and 'int'"
     ]
    }
   ],
   "source": [
    "my_list.sort()\n",
    "# error is due to diff types "
   ]
  },
  {
   "cell_type": "code",
   "execution_count": null,
   "id": "4b05de19",
   "metadata": {},
   "outputs": [],
   "source": [
    "int_list = [x for x in my_list if isinstance(x, int)]"
   ]
  },
  {
   "cell_type": "code",
   "execution_count": null,
   "id": "7a30a655",
   "metadata": {},
   "outputs": [
    {
     "data": {
      "text/plain": [
       "[1, 2, 4, 8, 7, 8]"
      ]
     },
     "execution_count": 9,
     "metadata": {},
     "output_type": "execute_result"
    }
   ],
   "source": [
    "int_list"
   ]
  },
  {
   "cell_type": "code",
   "execution_count": null,
   "id": "5f69543c",
   "metadata": {},
   "outputs": [],
   "source": [
    "int_list.sort()"
   ]
  },
  {
   "cell_type": "code",
   "execution_count": null,
   "id": "2a93fb37",
   "metadata": {},
   "outputs": [
    {
     "data": {
      "text/plain": [
       "[1, 2, 4, 7, 8, 8]"
      ]
     },
     "execution_count": 11,
     "metadata": {},
     "output_type": "execute_result"
    }
   ],
   "source": [
    "int_list"
   ]
  },
  {
   "cell_type": "code",
   "execution_count": null,
   "id": "55352ee5",
   "metadata": {},
   "outputs": [],
   "source": [
    "# binary search\n",
    "import bisect"
   ]
  },
  {
   "cell_type": "code",
   "execution_count": null,
   "id": "150084c2",
   "metadata": {},
   "outputs": [
    {
     "data": {
      "text/plain": [
       "3"
      ]
     },
     "execution_count": 17,
     "metadata": {},
     "output_type": "execute_result"
    }
   ],
   "source": [
    "bisect.bisect_left(int_list,5)\n",
    "# you need to double check to se if it was actually found\n",
    "# it tells you where the item was found or where it will be inserted "
   ]
  },
  {
   "cell_type": "code",
   "execution_count": null,
   "id": "7307172e",
   "metadata": {},
   "outputs": [],
   "source": [
    "# transforming data list comprehension\n",
    "squares= [i*i for i in range(100)]"
   ]
  },
  {
   "cell_type": "code",
   "execution_count": null,
   "id": "77a37f29",
   "metadata": {},
   "outputs": [
    {
     "data": {
      "text/plain": [
       "[0,\n",
       " 1,\n",
       " 4,\n",
       " 9,\n",
       " 16,\n",
       " 25,\n",
       " 36,\n",
       " 49,\n",
       " 64,\n",
       " 81,\n",
       " 100,\n",
       " 121,\n",
       " 144,\n",
       " 169,\n",
       " 196,\n",
       " 225,\n",
       " 256,\n",
       " 289,\n",
       " 324,\n",
       " 361,\n",
       " 400,\n",
       " 441,\n",
       " 484,\n",
       " 529,\n",
       " 576,\n",
       " 625,\n",
       " 676,\n",
       " 729,\n",
       " 784,\n",
       " 841,\n",
       " 900,\n",
       " 961,\n",
       " 1024,\n",
       " 1089,\n",
       " 1156,\n",
       " 1225,\n",
       " 1296,\n",
       " 1369,\n",
       " 1444,\n",
       " 1521,\n",
       " 1600,\n",
       " 1681,\n",
       " 1764,\n",
       " 1849,\n",
       " 1936,\n",
       " 2025,\n",
       " 2116,\n",
       " 2209,\n",
       " 2304,\n",
       " 2401,\n",
       " 2500,\n",
       " 2601,\n",
       " 2704,\n",
       " 2809,\n",
       " 2916,\n",
       " 3025,\n",
       " 3136,\n",
       " 3249,\n",
       " 3364,\n",
       " 3481,\n",
       " 3600,\n",
       " 3721,\n",
       " 3844,\n",
       " 3969,\n",
       " 4096,\n",
       " 4225,\n",
       " 4356,\n",
       " 4489,\n",
       " 4624,\n",
       " 4761,\n",
       " 4900,\n",
       " 5041,\n",
       " 5184,\n",
       " 5329,\n",
       " 5476,\n",
       " 5625,\n",
       " 5776,\n",
       " 5929,\n",
       " 6084,\n",
       " 6241,\n",
       " 6400,\n",
       " 6561,\n",
       " 6724,\n",
       " 6889,\n",
       " 7056,\n",
       " 7225,\n",
       " 7396,\n",
       " 7569,\n",
       " 7744,\n",
       " 7921,\n",
       " 8100,\n",
       " 8281,\n",
       " 8464,\n",
       " 8649,\n",
       " 8836,\n",
       " 9025,\n",
       " 9216,\n",
       " 9409,\n",
       " 9604,\n",
       " 9801]"
      ]
     },
     "execution_count": 19,
     "metadata": {},
     "output_type": "execute_result"
    }
   ],
   "source": [
    "squares"
   ]
  },
  {
   "cell_type": "code",
   "execution_count": null,
   "id": "9e14b72f",
   "metadata": {},
   "outputs": [],
   "source": [
    "even_num= [i for i in range(50) if i%2==0]"
   ]
  },
  {
   "cell_type": "code",
   "execution_count": null,
   "id": "8d58d264",
   "metadata": {},
   "outputs": [
    {
     "data": {
      "text/plain": [
       "[0,\n",
       " 2,\n",
       " 4,\n",
       " 6,\n",
       " 8,\n",
       " 10,\n",
       " 12,\n",
       " 14,\n",
       " 16,\n",
       " 18,\n",
       " 20,\n",
       " 22,\n",
       " 24,\n",
       " 26,\n",
       " 28,\n",
       " 30,\n",
       " 32,\n",
       " 34,\n",
       " 36,\n",
       " 38,\n",
       " 40,\n",
       " 42,\n",
       " 44,\n",
       " 46,\n",
       " 48]"
      ]
     },
     "execution_count": 23,
     "metadata": {},
     "output_type": "execute_result"
    }
   ],
   "source": [
    "even_num"
   ]
  },
  {
   "cell_type": "code",
   "execution_count": null,
   "id": "5001d4b4",
   "metadata": {},
   "outputs": [],
   "source": [
    "even_n= []\n",
    "for i in range(20):\n",
    "    if i%2==0:\n",
    "        even_n.append(i)\n"
   ]
  },
  {
   "cell_type": "code",
   "execution_count": null,
   "id": "e84e28ce",
   "metadata": {},
   "outputs": [
    {
     "data": {
      "text/plain": [
       "[0, 2, 4, 6, 8, 10, 12, 14, 16, 18]"
      ]
     },
     "execution_count": 25,
     "metadata": {},
     "output_type": "execute_result"
    }
   ],
   "source": [
    "even_n"
   ]
  },
  {
   "cell_type": "code",
   "execution_count": null,
   "id": "597d417d",
   "metadata": {},
   "outputs": [],
   "source": [
    "# tuple \n",
    "t= (4,6,\"b\",6)"
   ]
  },
  {
   "cell_type": "code",
   "execution_count": null,
   "id": "d2b671e8",
   "metadata": {},
   "outputs": [
    {
     "data": {
      "text/plain": [
       "tuple"
      ]
     },
     "execution_count": 28,
     "metadata": {},
     "output_type": "execute_result"
    }
   ],
   "source": [
    "type(t)"
   ]
  },
  {
   "cell_type": "code",
   "execution_count": null,
   "id": "3859d73b",
   "metadata": {},
   "outputs": [
    {
     "data": {
      "text/plain": [
       "(4, 6, 'b', 6)"
      ]
     },
     "execution_count": 29,
     "metadata": {},
     "output_type": "execute_result"
    }
   ],
   "source": [
    "t"
   ]
  },
  {
   "cell_type": "code",
   "execution_count": null,
   "id": "f8a679ab",
   "metadata": {},
   "outputs": [],
   "source": [
    "# A tuple with just one value must have a \n",
    "# comma before the close parenthesis. \n",
    "# This distinguishes it from just using parenthesis \n",
    "# for grouping. ctr / for comment\n",
    "\"\"\"\n",
    "This is a multi-line\n",
    "comment-like text block.\n",
    "\"\"\"\n",
    "t2=(1,)\n"
   ]
  },
  {
   "cell_type": "code",
   "execution_count": null,
   "id": "d35ba432",
   "metadata": {},
   "outputs": [],
   "source": [
    "# python dictionary great for searching items if \n",
    "# you need to choose immutable key\n",
    "# technically, python is checking wheter it can hash the key"
   ]
  },
  {
   "cell_type": "code",
   "execution_count": null,
   "id": "820e3bae",
   "metadata": {},
   "outputs": [
    {
     "data": {
      "text/plain": [
       "3"
      ]
     },
     "execution_count": 31,
     "metadata": {},
     "output_type": "execute_result"
    }
   ],
   "source": [
    "hash(3)"
   ]
  },
  {
   "cell_type": "code",
   "execution_count": null,
   "id": "55435853",
   "metadata": {},
   "outputs": [
    {
     "data": {
      "text/plain": [
       "5929420617254611701"
      ]
     },
     "execution_count": 32,
     "metadata": {},
     "output_type": "execute_result"
    }
   ],
   "source": [
    "hash(\"goal\")"
   ]
  },
  {
   "cell_type": "code",
   "execution_count": null,
   "id": "4db6b1df",
   "metadata": {},
   "outputs": [
    {
     "ename": "TypeError",
     "evalue": "unhashable type: 'list'",
     "output_type": "error",
     "traceback": [
      "\u001b[31m---------------------------------------------------------------------------\u001b[39m",
      "\u001b[31mTypeError\u001b[39m                                 Traceback (most recent call last)",
      "\u001b[36mCell\u001b[39m\u001b[36m \u001b[39m\u001b[32mIn[34]\u001b[39m\u001b[32m, line 1\u001b[39m\n\u001b[32m----> \u001b[39m\u001b[32m1\u001b[39m \u001b[38;5;28;43mhash\u001b[39;49m\u001b[43m(\u001b[49m\u001b[43m[\u001b[49m\u001b[32;43m3\u001b[39;49m\u001b[43m]\u001b[49m\u001b[43m)\u001b[49m \n\u001b[32m      2\u001b[39m \u001b[38;5;66;03m# list do not work because you can change them \u001b[39;00m\n",
      "\u001b[31mTypeError\u001b[39m: unhashable type: 'list'"
     ]
    }
   ],
   "source": [
    "hash([3]) \n",
    "# list do not work because you can change them "
   ]
  },
  {
   "cell_type": "code",
   "execution_count": null,
   "id": "a91eff9e",
   "metadata": {},
   "outputs": [
    {
     "data": {
      "text/plain": [
       "8524022316992554414"
      ]
     },
     "execution_count": 36,
     "metadata": {},
     "output_type": "execute_result"
    }
   ],
   "source": [
    "hash((4,))"
   ]
  },
  {
   "cell_type": "code",
   "execution_count": null,
   "id": "273ef775",
   "metadata": {},
   "outputs": [],
   "source": [
    "my_data=[3,5,\"five\", \"ten\", 7,12,23]"
   ]
  },
  {
   "cell_type": "code",
   "execution_count": null,
   "id": "10d38211",
   "metadata": {},
   "outputs": [],
   "source": [
    "myint=[i for i in my_data if isinstance(i, int)]"
   ]
  },
  {
   "cell_type": "code",
   "execution_count": null,
   "id": "7cdbed07",
   "metadata": {},
   "outputs": [
    {
     "data": {
      "text/plain": [
       "[3, 5, 7, 12, 23]"
      ]
     },
     "execution_count": 10,
     "metadata": {},
     "output_type": "execute_result"
    }
   ],
   "source": [
    "myint"
   ]
  },
  {
   "cell_type": "code",
   "execution_count": null,
   "id": "b9d64c14",
   "metadata": {},
   "outputs": [],
   "source": [
    "my_doc={\"height\": 65,\"City\": \"Boston\", \"state\": \"MA\"}"
   ]
  },
  {
   "cell_type": "code",
   "execution_count": null,
   "id": "a59e534a",
   "metadata": {},
   "outputs": [
    {
     "data": {
      "text/plain": [
       "3"
      ]
     },
     "execution_count": 3,
     "metadata": {},
     "output_type": "execute_result"
    }
   ],
   "source": [
    "len(my_doc)"
   ]
  },
  {
   "cell_type": "code",
   "execution_count": null,
   "id": "f0b8bfe8",
   "metadata": {},
   "outputs": [
    {
     "data": {
      "text/plain": [
       "65"
      ]
     },
     "execution_count": 4,
     "metadata": {},
     "output_type": "execute_result"
    }
   ],
   "source": [
    "# fetching with key\n",
    "my_doc[\"height\"]"
   ]
  },
  {
   "cell_type": "code",
   "execution_count": null,
   "id": "bf35aed5",
   "metadata": {},
   "outputs": [
    {
     "ename": "KeyError",
     "evalue": "'heigth'",
     "output_type": "error",
     "traceback": [
      "\u001b[31m---------------------------------------------------------------------------\u001b[39m",
      "\u001b[31mKeyError\u001b[39m                                  Traceback (most recent call last)",
      "\u001b[36mCell\u001b[39m\u001b[36m \u001b[39m\u001b[32mIn[6]\u001b[39m\u001b[32m, line 1\u001b[39m\n\u001b[32m----> \u001b[39m\u001b[32m1\u001b[39m \u001b[43mmy_doc\u001b[49m\u001b[43m[\u001b[49m\u001b[33;43m\"\u001b[39;49m\u001b[33;43mheigth\u001b[39;49m\u001b[33;43m\"\u001b[39;49m\u001b[43m]\u001b[49m\n\u001b[32m      2\u001b[39m \u001b[38;5;66;03m# key error\u001b[39;00m\n",
      "\u001b[31mKeyError\u001b[39m: 'heigth'"
     ]
    }
   ],
   "source": [
    "my_doc[\"heigth\"]\n",
    "# key error"
   ]
  },
  {
   "cell_type": "code",
   "execution_count": null,
   "id": "7de8346a",
   "metadata": {},
   "outputs": [
    {
     "data": {
      "text/plain": [
       "False"
      ]
     },
     "execution_count": 7,
     "metadata": {},
     "output_type": "execute_result"
    }
   ],
   "source": [
    "\"heigth\"in my_doc"
   ]
  },
  {
   "cell_type": "code",
   "execution_count": null,
   "id": "1c901118",
   "metadata": {},
   "outputs": [
    {
     "data": {
      "text/plain": [
       "True"
      ]
     },
     "execution_count": 8,
     "metadata": {},
     "output_type": "execute_result"
    }
   ],
   "source": [
    "\"height\" in my_doc"
   ]
  },
  {
   "cell_type": "code",
   "execution_count": null,
   "id": "b8800c29",
   "metadata": {},
   "outputs": [],
   "source": [
    "# jupiter threats a non value with no output by default\n",
    "my_doc.get(\"heigth\")"
   ]
  },
  {
   "cell_type": "code",
   "execution_count": null,
   "id": "445d77d5",
   "metadata": {},
   "outputs": [
    {
     "data": {
      "text/plain": [
       "65"
      ]
     },
     "execution_count": 10,
     "metadata": {},
     "output_type": "execute_result"
    }
   ],
   "source": [
    "my_doc.get(\"height\")"
   ]
  },
  {
   "cell_type": "code",
   "execution_count": null,
   "id": "c7fecc0a",
   "metadata": {},
   "outputs": [],
   "source": [
    "my_doc[\"weight\"]=120"
   ]
  },
  {
   "cell_type": "code",
   "execution_count": null,
   "id": "d40d0d5a",
   "metadata": {},
   "outputs": [],
   "source": [
    "my_doc[\"mood\"]=\"happy\""
   ]
  },
  {
   "cell_type": "code",
   "execution_count": null,
   "id": "19bff7f8",
   "metadata": {},
   "outputs": [],
   "source": [
    "my_doc[123]=\"yes\""
   ]
  },
  {
   "cell_type": "code",
   "execution_count": null,
   "id": "c6795df9",
   "metadata": {},
   "outputs": [
    {
     "data": {
      "text/plain": [
       "{'height': 65,\n",
       " 'City': 'Boston',\n",
       " 'state': 'MA',\n",
       " 123: 'yes',\n",
       " 'mood': 'happy',\n",
       " 'weight': 120}"
      ]
     },
     "execution_count": 17,
     "metadata": {},
     "output_type": "execute_result"
    }
   ],
   "source": [
    "my_doc"
   ]
  },
  {
   "cell_type": "code",
   "execution_count": null,
   "id": "266aff76",
   "metadata": {},
   "outputs": [
    {
     "name": "stdout",
     "output_type": "stream",
     "text": [
      "height\n",
      "City\n",
      "state\n",
      "123\n",
      "mood\n",
      "weight\n"
     ]
    }
   ],
   "source": [
    "# if you just iterate on dictionaries, you will get the keys back\n",
    "for k in my_doc:\n",
    "    print(k)"
   ]
  },
  {
   "cell_type": "code",
   "execution_count": null,
   "id": "452caf8f",
   "metadata": {},
   "outputs": [
    {
     "name": "stdout",
     "output_type": "stream",
     "text": [
      "height\n",
      "City\n",
      "state\n",
      "123\n",
      "mood\n",
      "weight\n"
     ]
    }
   ],
   "source": [
    "# another way\n",
    "for k in my_doc.keys():\n",
    "    print(k)"
   ]
  },
  {
   "cell_type": "code",
   "execution_count": null,
   "id": "5ccd657d",
   "metadata": {},
   "outputs": [
    {
     "name": "stdout",
     "output_type": "stream",
     "text": [
      "65\n",
      "Boston\n",
      "MA\n",
      "yes\n",
      "happy\n",
      "120\n"
     ]
    }
   ],
   "source": [
    "for i in my_doc.values():\n",
    "    print(i)"
   ]
  },
  {
   "cell_type": "code",
   "execution_count": null,
   "id": "da4825b6",
   "metadata": {},
   "outputs": [
    {
     "name": "stdout",
     "output_type": "stream",
     "text": [
      "height 65\n",
      "City Boston\n",
      "state MA\n",
      "123 yes\n",
      "mood happy\n",
      "weight 120\n"
     ]
    }
   ],
   "source": [
    "# using items method\n",
    "for i,r in my_doc.items():\n",
    "    print(i,r)"
   ]
  },
  {
   "cell_type": "code",
   "execution_count": null,
   "id": "966acdde",
   "metadata": {},
   "outputs": [],
   "source": [
    "# dictionary comprehensions \n"
   ]
  },
  {
   "cell_type": "code",
   "execution_count": null,
   "id": "7168f187",
   "metadata": {},
   "outputs": [],
   "source": [
    "squares={i: i**2 for i in range(10)}"
   ]
  },
  {
   "cell_type": "code",
   "execution_count": null,
   "id": "4ab005c2",
   "metadata": {},
   "outputs": [
    {
     "data": {
      "text/plain": [
       "{0: 0, 1: 1, 2: 4, 3: 9, 4: 16, 5: 25, 6: 36, 7: 49, 8: 64, 9: 81}"
      ]
     },
     "execution_count": 18,
     "metadata": {},
     "output_type": "execute_result"
    }
   ],
   "source": [
    "squares"
   ]
  },
  {
   "cell_type": "code",
   "execution_count": null,
   "id": "aac60c2b",
   "metadata": {},
   "outputs": [
    {
     "name": "stdout",
     "output_type": "stream",
     "text": [
      "0\n",
      "1\n",
      "4\n",
      "9\n",
      "16\n",
      "25\n",
      "36\n",
      "49\n",
      "64\n",
      "81\n"
     ]
    }
   ],
   "source": [
    "for i in squares.values():\n",
    "    print(i)\n"
   ]
  },
  {
   "cell_type": "code",
   "execution_count": null,
   "id": "8f2867e4",
   "metadata": {},
   "outputs": [],
   "source": [
    "# inverting a dictionary\n",
    "sqrt={squares[v]:v for v in squares}"
   ]
  },
  {
   "cell_type": "code",
   "execution_count": null,
   "id": "3ea687f7",
   "metadata": {},
   "outputs": [
    {
     "data": {
      "text/plain": [
       "{0: 0, 1: 1, 4: 2, 9: 3, 16: 4, 25: 5, 36: 6, 49: 7, 64: 8, 81: 9}"
      ]
     },
     "execution_count": 27,
     "metadata": {},
     "output_type": "execute_result"
    }
   ],
   "source": [
    "sqrt"
   ]
  },
  {
   "cell_type": "code",
   "execution_count": null,
   "id": "12cc7bf5",
   "metadata": {},
   "outputs": [],
   "source": [
    "#dick comprehensions are used for building data structure\n",
    "# no for storing data"
   ]
  },
  {
   "cell_type": "code",
   "execution_count": null,
   "id": "b959d8d7",
   "metadata": {},
   "outputs": [],
   "source": [
    "# Python set\n",
    "#  with no input, set functions return an empty set\n",
    "# they are like list but also like dic bcos can be assessed\n",
    "# by keys and have curly braces\n",
    "x=set()\n"
   ]
  },
  {
   "cell_type": "code",
   "execution_count": null,
   "id": "8926490e",
   "metadata": {},
   "outputs": [
    {
     "data": {
      "text/plain": [
       "set()"
      ]
     },
     "execution_count": 29,
     "metadata": {},
     "output_type": "execute_result"
    }
   ],
   "source": [
    "x"
   ]
  },
  {
   "cell_type": "code",
   "execution_count": null,
   "id": "252d071d",
   "metadata": {},
   "outputs": [],
   "source": [
    "# set often takes a sequence which will be used to populate\n",
    "# the set\n",
    "x=set(range(9))"
   ]
  },
  {
   "cell_type": "code",
   "execution_count": null,
   "id": "e0486ccd",
   "metadata": {},
   "outputs": [
    {
     "data": {
      "text/plain": [
       "{0, 1, 2, 3, 4, 5, 6, 7, 8}"
      ]
     },
     "execution_count": 31,
     "metadata": {},
     "output_type": "execute_result"
    }
   ],
   "source": [
    "x"
   ]
  },
  {
   "cell_type": "code",
   "execution_count": null,
   "id": "68d49a5f",
   "metadata": {},
   "outputs": [],
   "source": [
    "y={2,4,6,7}"
   ]
  },
  {
   "cell_type": "code",
   "execution_count": null,
   "id": "97a45caa",
   "metadata": {},
   "outputs": [],
   "source": [
    "#set comprehension is a mix btw list and dict comprehension\n",
    "z={i for i in range(8) if i%3==0}"
   ]
  },
  {
   "cell_type": "code",
   "execution_count": null,
   "id": "9347ca29",
   "metadata": {},
   "outputs": [
    {
     "data": {
      "text/plain": [
       "{0, 3, 6}"
      ]
     },
     "execution_count": 34,
     "metadata": {},
     "output_type": "execute_result"
    }
   ],
   "source": [
    "z"
   ]
  },
  {
   "cell_type": "code",
   "execution_count": null,
   "id": "ed190337",
   "metadata": {},
   "outputs": [],
   "source": [
    "# adding to the set\n",
    "z.add(4)"
   ]
  },
  {
   "cell_type": "code",
   "execution_count": null,
   "id": "e97dfcf4",
   "metadata": {},
   "outputs": [
    {
     "data": {
      "text/plain": [
       "{0, 3, 4, 6}"
      ]
     },
     "execution_count": 36,
     "metadata": {},
     "output_type": "execute_result"
    }
   ],
   "source": [
    "z"
   ]
  },
  {
   "cell_type": "code",
   "execution_count": null,
   "id": "852f11b4",
   "metadata": {},
   "outputs": [],
   "source": [
    "z.remove(6)"
   ]
  },
  {
   "cell_type": "code",
   "execution_count": null,
   "id": "633e800f",
   "metadata": {},
   "outputs": [
    {
     "data": {
      "text/plain": [
       "{0, 3, 4}"
      ]
     },
     "execution_count": 38,
     "metadata": {},
     "output_type": "execute_result"
    }
   ],
   "source": [
    "z"
   ]
  },
  {
   "cell_type": "code",
   "execution_count": null,
   "id": "c1cf0a50",
   "metadata": {},
   "outputs": [
    {
     "data": {
      "text/plain": [
       "True"
      ]
     },
     "execution_count": 39,
     "metadata": {},
     "output_type": "execute_result"
    }
   ],
   "source": [
    "4 in z"
   ]
  },
  {
   "cell_type": "code",
   "execution_count": null,
   "id": "12d94fb3",
   "metadata": {},
   "outputs": [
    {
     "data": {
      "text/plain": [
       "False"
      ]
     },
     "execution_count": 40,
     "metadata": {},
     "output_type": "execute_result"
    }
   ],
   "source": [
    "4 not in z"
   ]
  },
  {
   "cell_type": "code",
   "execution_count": null,
   "id": "82440f53",
   "metadata": {},
   "outputs": [
    {
     "data": {
      "text/plain": [
       "False"
      ]
     },
     "execution_count": 41,
     "metadata": {},
     "output_type": "execute_result"
    }
   ],
   "source": [
    "not 3 in z"
   ]
  },
  {
   "cell_type": "code",
   "execution_count": null,
   "id": "26fcfa11",
   "metadata": {},
   "outputs": [
    {
     "data": {
      "text/plain": [
       "{2, 4, 6, 7}"
      ]
     },
     "execution_count": 45,
     "metadata": {},
     "output_type": "execute_result"
    }
   ],
   "source": [
    "y"
   ]
  },
  {
   "cell_type": "code",
   "execution_count": null,
   "id": "694d40c5",
   "metadata": {},
   "outputs": [
    {
     "data": {
      "text/plain": [
       "{0, 3, 4}"
      ]
     },
     "execution_count": 46,
     "metadata": {},
     "output_type": "execute_result"
    }
   ],
   "source": [
    "z"
   ]
  },
  {
   "cell_type": "code",
   "execution_count": null,
   "id": "54f70b14",
   "metadata": {},
   "outputs": [
    {
     "data": {
      "text/plain": [
       "{0, 2, 3, 4, 6, 7}"
      ]
     },
     "execution_count": 42,
     "metadata": {},
     "output_type": "execute_result"
    }
   ],
   "source": [
    "# union operator for sets\n",
    "y|z"
   ]
  },
  {
   "cell_type": "code",
   "execution_count": null,
   "id": "8753a364",
   "metadata": {},
   "outputs": [
    {
     "data": {
      "text/plain": [
       "{4}"
      ]
     },
     "execution_count": 43,
     "metadata": {},
     "output_type": "execute_result"
    }
   ],
   "source": [
    "z&y \n",
    "#  i.e in both"
   ]
  },
  {
   "cell_type": "code",
   "execution_count": null,
   "id": "fe04b71e",
   "metadata": {},
   "outputs": [
    {
     "data": {
      "text/plain": [
       "{4}"
      ]
     },
     "execution_count": 44,
     "metadata": {},
     "output_type": "execute_result"
    }
   ],
   "source": [
    "y&z"
   ]
  },
  {
   "cell_type": "code",
   "execution_count": null,
   "id": "120a4aa7",
   "metadata": {},
   "outputs": [
    {
     "data": {
      "text/plain": [
       "['add',\n",
       " 'clear',\n",
       " 'copy',\n",
       " 'difference',\n",
       " 'difference_update',\n",
       " 'discard',\n",
       " 'intersection',\n",
       " 'intersection_update',\n",
       " 'isdisjoint',\n",
       " 'issubset',\n",
       " 'issuperset',\n",
       " 'pop',\n",
       " 'remove',\n",
       " 'symmetric_difference',\n",
       " 'symmetric_difference_update',\n",
       " 'union',\n",
       " 'update']"
      ]
     },
     "execution_count": 47,
     "metadata": {},
     "output_type": "execute_result"
    }
   ],
   "source": [
    "[m for m in dir(set) if not m.startswith(\"_\")]"
   ]
  },
  {
   "cell_type": "code",
   "execution_count": null,
   "id": "37fa2979",
   "metadata": {},
   "outputs": [
    {
     "data": {
      "text/plain": [
       "{0, 3}"
      ]
     },
     "execution_count": 49,
     "metadata": {},
     "output_type": "execute_result"
    }
   ],
   "source": [
    "# using difference method\n",
    "z.difference(y)\n"
   ]
  },
  {
   "cell_type": "code",
   "execution_count": null,
   "id": "f00ed4f4",
   "metadata": {},
   "outputs": [],
   "source": [
    "a=5"
   ]
  },
  {
   "cell_type": "code",
   "execution_count": null,
   "id": "d0700e9b",
   "metadata": {},
   "outputs": [],
   "source": [
    "b=a"
   ]
  },
  {
   "cell_type": "code",
   "execution_count": null,
   "id": "a7e4ffe2",
   "metadata": {},
   "outputs": [
    {
     "data": {
      "text/plain": [
       "5"
      ]
     },
     "execution_count": 53,
     "metadata": {},
     "output_type": "execute_result"
    }
   ],
   "source": [
    "b"
   ]
  },
  {
   "cell_type": "code",
   "execution_count": null,
   "id": "633bb026",
   "metadata": {},
   "outputs": [
    {
     "data": {
      "text/plain": [
       "99334607377448"
      ]
     },
     "execution_count": 54,
     "metadata": {},
     "output_type": "execute_result"
    }
   ],
   "source": [
    "id(a)"
   ]
  },
  {
   "cell_type": "code",
   "execution_count": null,
   "id": "397bd058",
   "metadata": {},
   "outputs": [
    {
     "data": {
      "text/plain": [
       "99334607377448"
      ]
     },
     "execution_count": 55,
     "metadata": {},
     "output_type": "execute_result"
    }
   ],
   "source": [
    "id(b)"
   ]
  },
  {
   "cell_type": "code",
   "execution_count": null,
   "id": "5a6cebb3",
   "metadata": {},
   "outputs": [
    {
     "data": {
      "text/plain": [
       "['__and__',\n",
       " '__class__',\n",
       " '__class_getitem__',\n",
       " '__contains__',\n",
       " '__delattr__',\n",
       " '__dir__',\n",
       " '__doc__',\n",
       " '__eq__',\n",
       " '__format__',\n",
       " '__ge__',\n",
       " '__getattribute__',\n",
       " '__getstate__',\n",
       " '__gt__',\n",
       " '__hash__',\n",
       " '__iand__',\n",
       " '__init__',\n",
       " '__init_subclass__',\n",
       " '__ior__',\n",
       " '__isub__',\n",
       " '__iter__',\n",
       " '__ixor__',\n",
       " '__le__',\n",
       " '__len__',\n",
       " '__lt__',\n",
       " '__ne__',\n",
       " '__new__',\n",
       " '__or__',\n",
       " '__rand__',\n",
       " '__reduce__',\n",
       " '__reduce_ex__',\n",
       " '__repr__',\n",
       " '__ror__',\n",
       " '__rsub__',\n",
       " '__rxor__',\n",
       " '__setattr__',\n",
       " '__sizeof__',\n",
       " '__str__',\n",
       " '__sub__',\n",
       " '__subclasshook__',\n",
       " '__xor__',\n",
       " 'add',\n",
       " 'clear',\n",
       " 'copy',\n",
       " 'difference',\n",
       " 'difference_update',\n",
       " 'discard',\n",
       " 'intersection',\n",
       " 'intersection_update',\n",
       " 'isdisjoint',\n",
       " 'issubset',\n",
       " 'issuperset',\n",
       " 'pop',\n",
       " 'remove',\n",
       " 'symmetric_difference',\n",
       " 'symmetric_difference_update',\n",
       " 'union',\n",
       " 'update']"
      ]
     },
     "execution_count": 56,
     "metadata": {},
     "output_type": "execute_result"
    }
   ],
   "source": [
    "dir(x)"
   ]
  },
  {
   "cell_type": "code",
   "execution_count": null,
   "id": "fad4b24b",
   "metadata": {},
   "outputs": [],
   "source": [
    "d=x.copy()"
   ]
  },
  {
   "cell_type": "code",
   "execution_count": null,
   "id": "cb8e0048",
   "metadata": {},
   "outputs": [
    {
     "ename": "AttributeError",
     "evalue": "'set' object has no attribute 'reverse'",
     "output_type": "error",
     "traceback": [
      "\u001b[31m---------------------------------------------------------------------------\u001b[39m",
      "\u001b[31mAttributeError\u001b[39m                            Traceback (most recent call last)",
      "\u001b[36mCell\u001b[39m\u001b[36m \u001b[39m\u001b[32mIn[58]\u001b[39m\u001b[32m, line 1\u001b[39m\n\u001b[32m----> \u001b[39m\u001b[32m1\u001b[39m \u001b[38;5;28mdir\u001b[39m(\u001b[43mx\u001b[49m\u001b[43m.\u001b[49m\u001b[43mreverse\u001b[49m)\n",
      "\u001b[31mAttributeError\u001b[39m: 'set' object has no attribute 'reverse'"
     ]
    }
   ],
   "source": [
    "dir(x.reverse)"
   ]
  },
  {
   "cell_type": "code",
   "execution_count": null,
   "id": "1ddae0ba",
   "metadata": {},
   "outputs": [
    {
     "data": {
      "text/plain": [
       "'Remove and return an arbitrary set element.\\nRaises KeyError if the set is empty.'"
      ]
     },
     "execution_count": 59,
     "metadata": {},
     "output_type": "execute_result"
    }
   ],
   "source": [
    "x.pop.__doc__"
   ]
  },
  {
   "cell_type": "code",
   "execution_count": null,
   "id": "ea29a2b9",
   "metadata": {},
   "outputs": [],
   "source": []
  }
 ],
 "metadata": {
  "kernelspec": {
   "display_name": "Python 3",
   "language": "python",
   "name": "python3"
  },
  "language_info": {
   "codemirror_mode": {
    "name": "ipython",
    "version": 3
   },
   "file_extension": ".py",
   "mimetype": "text/x-python",
   "name": "python",
   "nbconvert_exporter": "python",
   "pygments_lexer": "ipython3",
   "version": "3.12.1"
  }
 },
 "nbformat": 4,
 "nbformat_minor": 5
}
